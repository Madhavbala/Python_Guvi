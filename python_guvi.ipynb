{
 "cells": [
  {
   "cell_type": "markdown",
   "id": "2f6b99c3",
   "metadata": {},
   "source": [
    "Day 1"
   ]
  },
  {
   "cell_type": "code",
   "execution_count": 105,
   "id": "85c8606b",
   "metadata": {},
   "outputs": [
    {
     "name": "stdout",
     "output_type": "stream",
     "text": [
      "What is your Name : madhavan b d\n",
      "12\n"
     ]
    }
   ],
   "source": [
    "print(len(input(\"What is your Name : \")))"
   ]
  },
  {
   "cell_type": "code",
   "execution_count": 2,
   "id": "3b51e232",
   "metadata": {},
   "outputs": [
    {
     "name": "stdout",
     "output_type": "stream",
     "text": [
      "A : as\n",
      "B : as\n",
      "A : as\n",
      "B : as\n"
     ]
    }
   ],
   "source": [
    "a = input(\"A : \")\n",
    "b = input(\"B : \")\n",
    "c = a\n",
    "a = b\n",
    "b = c\n",
    "print(\"A :\",a)\n",
    "print(\"B :\",b)"
   ]
  },
  {
   "cell_type": "code",
   "execution_count": 3,
   "id": "fc89dd5f",
   "metadata": {},
   "outputs": [
    {
     "name": "stdout",
     "output_type": "stream",
     "text": [
      "Enter your name      : maddy\n",
      "Hello maddy\n",
      "Enter your city name : sathy\n",
      "Enter your pet name  : rabbit\n",
      "Try This :  sathy rabbit\n"
     ]
    }
   ],
   "source": [
    "name = input(\"Enter your name      : \")\n",
    "print(\"Hello\",name)\n",
    "city_name = input(\"Enter your city name : \")\n",
    "pet_name  = input(\"Enter your pet name  : \")\n",
    "band_name = city_name +\" \"+ pet_name\n",
    "print(\"Try This : \",band_name)"
   ]
  },
  {
   "cell_type": "markdown",
   "id": "084dfd0b",
   "metadata": {},
   "source": [
    "Day 2"
   ]
  },
  {
   "cell_type": "code",
   "execution_count": 4,
   "id": "553004cb",
   "metadata": {},
   "outputs": [
    {
     "name": "stdout",
     "output_type": "stream",
     "text": [
      "Tip Calculator\n",
      "Enter Total Amount                     : 123\n",
      "Enter Total Number of People to Divide : 2\n",
      "Enter ti 12\n",
      "Each Person Should Give :  61.62\n"
     ]
    }
   ],
   "source": [
    "print(\"Tip Calculator\")\n",
    "Total_cost = int(input(\"Enter Total Amount                     : \"))\n",
    "Persons = int(input(\"Enter Total Number of People to Divide : \"))\n",
    "tip = int(input(\"Enter ti \"))\n",
    "tip_per = tip/100\n",
    "result = Total_cost / Persons\n",
    "print(\"Each Person Should Give : \",result+tip_per)"
   ]
  },
  {
   "cell_type": "code",
   "execution_count": 5,
   "id": "ead1924a",
   "metadata": {},
   "outputs": [
    {
     "name": "stdout",
     "output_type": "stream",
     "text": [
      "Enter the name : madhavan\n",
      "Your Name has 8 Characters\n"
     ]
    }
   ],
   "source": [
    "name  = len(input(\"Enter the name : \"))\n",
    "new_name = str(name)\n",
    "print(\"Your Name has \"+ new_name + \" Characters\")"
   ]
  },
  {
   "cell_type": "code",
   "execution_count": 6,
   "id": "f1b3166d",
   "metadata": {},
   "outputs": [
    {
     "name": "stdout",
     "output_type": "stream",
     "text": [
      "12\n",
      "12\n",
      "24\n"
     ]
    }
   ],
   "source": [
    "num,num2 =int(input()),int(input())\n",
    "print(num+num2)"
   ]
  },
  {
   "cell_type": "code",
   "execution_count": 7,
   "id": "242d4e6f",
   "metadata": {},
   "outputs": [
    {
     "name": "stdout",
     "output_type": "stream",
     "text": [
      "12\n",
      "3\n"
     ]
    }
   ],
   "source": [
    "two_digit_number = input()\n",
    "first = two_digit_number[0]\n",
    "second = two_digit_number[1]\n",
    "result = int(first) + int(second)\n",
    "print(result)"
   ]
  },
  {
   "cell_type": "code",
   "execution_count": 8,
   "id": "1d05990b",
   "metadata": {},
   "outputs": [
    {
     "name": "stdout",
     "output_type": "stream",
     "text": [
      "Welcome to rollercoster\n",
      "Enter your Height in cm : 123\n",
      "Do you want Photos y\n",
      "123 cm - Can't Ride\n"
     ]
    }
   ],
   "source": [
    "print(\"Welcome to rollercoster\")\n",
    "height = int(input(\"Enter your Height in cm : \"))\n",
    "bill = 0\n",
    "if height >= 125:\n",
    "    print(height,\"cm - Ride\")\n",
    "    age = int(input(\"Enter your Age : \"))\n",
    "    if age <= 12:\n",
    "        bill = 10\n",
    "    elif age >=18:\n",
    "        bill = 15\n",
    "    elif age >=20:\n",
    "        bill = 20\n",
    "wants_photo = input(\"Do you want Photos \")\n",
    "if wants_photo.lower() == 'yes':\n",
    "    bill = bill +3\n",
    "    print(f\"Your Final Bill is :{bill} \")\n",
    "else:\n",
    "    print(height,\"cm - Can't Ride\")"
   ]
  },
  {
   "cell_type": "code",
   "execution_count": 9,
   "id": "4bd04f28",
   "metadata": {},
   "outputs": [
    {
     "name": "stdout",
     "output_type": "stream",
     "text": [
      "Leap Year Calculator\n",
      "Enter the year : 2332\n",
      "Non Leap Year\n"
     ]
    }
   ],
   "source": [
    "print(\"Leap Year Calculator\")\n",
    "year = int(input(\"Enter the year : \"))\n",
    "if year % 4 == 0:\n",
    "    if year % 100 == 0:\n",
    "        if year % 400 == 0:\n",
    "            print(\"Leap Year \")\n",
    "        else:\n",
    "            print(\"Non Leap Year\")\n",
    "    else:\n",
    "        print(\"Non Leap Year\")\n",
    "else:\n",
    "    print(\"Non leap year\")"
   ]
  },
  {
   "cell_type": "code",
   "execution_count": 10,
   "id": "b0209720",
   "metadata": {},
   "outputs": [
    {
     "data": {
      "text/plain": [
       "'\"\"print(\"Welcome to Doimnos \")\\n\\nsize = input(\"What Size Pizza Do You Want \\'S\\',\\'M\\',\\'L\\' : \")\\npepperoni = input(\"Do You want pepperoni \\'Y\\' or \\'N\\'\")\\ncheese = input(\"DO you want cheese \\'Y\\' or \\'N\\' \")\\n\\n\\n\\nif size.lower() == \\'S\\':\\n    small_pizza\\n    if pepperoni.lower() == \\'Y\\':\\n        small_pizza + 2\\n        if cheese.lower() == \\'Y\\':\\n            small_pizza + 1\\n        else:\\n            print(small_pizza)\\n    else:\\n        print(small_pizza)\\n        \\n\\nif size.lower() == \\'M\\':\\n    Medium_pizza\\n    if pepperoni.lower() == \\'Y\\':\\n        Medium_pizza + 3\\n        if cheese.lower() == \\'Y\\':\\n            Medium_pizza + 1\\n        else:\\n            Medium_pizza\\n    else:\\n        Medium_pizza\\n        \\n\\n        \\nif size.lower() == \\'l\\':\\n    large_pizza\\n    if pepperoni.lower() == \\'Y\\':\\n        large_pizza + 3\\n        if cheese.lower() == \\'Y\\':\\n            large_pizza + 1\\n        else:\\n            large_pizza\\n    else:\\n        large_pizza\\n        \\n\\nelse:\\n    print(\"Thank You\")'"
      ]
     },
     "execution_count": 10,
     "metadata": {},
     "output_type": "execute_result"
    }
   ],
   "source": [
    "\"\"\"\"\"print(\"Welcome to Doimnos \")\n",
    "\n",
    "size = input(\"What Size Pizza Do You Want 'S','M','L' : \")\n",
    "pepperoni = input(\"Do You want pepperoni 'Y' or 'N'\")\n",
    "cheese = input(\"DO you want cheese 'Y' or 'N' \")\n",
    "\n",
    "\n",
    "\n",
    "if size.lower() == 'S':\n",
    "    small_pizza\n",
    "    if pepperoni.lower() == 'Y':\n",
    "        small_pizza + 2\n",
    "        if cheese.lower() == 'Y':\n",
    "            small_pizza + 1\n",
    "        else:\n",
    "            print(small_pizza)\n",
    "    else:\n",
    "        print(small_pizza)\n",
    "        \n",
    "\n",
    "if size.lower() == 'M':\n",
    "    Medium_pizza\n",
    "    if pepperoni.lower() == 'Y':\n",
    "        Medium_pizza + 3\n",
    "        if cheese.lower() == 'Y':\n",
    "            Medium_pizza + 1\n",
    "        else:\n",
    "            Medium_pizza\n",
    "    else:\n",
    "        Medium_pizza\n",
    "        \n",
    "\n",
    "        \n",
    "if size.lower() == 'l':\n",
    "    large_pizza\n",
    "    if pepperoni.lower() == 'Y':\n",
    "        large_pizza + 3\n",
    "        if cheese.lower() == 'Y':\n",
    "            large_pizza + 1\n",
    "        else:\n",
    "            large_pizza\n",
    "    else:\n",
    "        large_pizza\n",
    "        \n",
    "\n",
    "else:\n",
    "    print(\"Thank You\")\"\"\""
   ]
  },
  {
   "cell_type": "code",
   "execution_count": 11,
   "id": "113e4ab4",
   "metadata": {},
   "outputs": [
    {
     "name": "stdout",
     "output_type": "stream",
     "text": [
      "What Size Pizza Do You Want 'S','M','L' : s\n",
      "Do You want pepperoni 'Y' or 'N'y\n",
      "DO you want cheese 'Y' or 'N' n\n",
      "Your final bill is 25\n"
     ]
    }
   ],
   "source": [
    "size = input(\"What Size Pizza Do You Want 'S','M','L' : \")\n",
    "pepperoni = input(\"Do You want pepperoni 'Y' or 'N'\")\n",
    "cheese = input(\"DO you want cheese 'Y' or 'N' \")\n",
    "bill = 0\n",
    "\n",
    "\n",
    "if size== 'S':\n",
    "    bill += 15\n",
    "elif size == 'M':\n",
    "    bill += 20\n",
    "else:\n",
    "    bill += 25\n",
    "\n",
    "if pepperoni=='Y':\n",
    "    if size== 'S':\n",
    "        bill += 2\n",
    "    else:\n",
    "        bill += 3\n",
    "if cheese == 'Y':\n",
    "    bill += 1\n",
    "    \n",
    "print(f\"Your final bill is {bill}\")"
   ]
  },
  {
   "cell_type": "code",
   "execution_count": 12,
   "id": "46d793fa",
   "metadata": {
    "scrolled": true
   },
   "outputs": [
    {
     "name": "stdout",
     "output_type": "stream",
     "text": [
      "Love Calculator\n",
      "Enter the Male name   : madhav\n",
      "Enter the Female name : madhav\n",
      "Your Love Score is : 02\n"
     ]
    }
   ],
   "source": [
    "print(\"Love Calculator\")\n",
    "\n",
    "boy_name  = input(\"Enter the Male name   : \")\n",
    "girl_name = input(\"Enter the Female name : \")\n",
    "\n",
    "combine = boy_name + girl_name\n",
    "lower_name = combine.lower()\n",
    "\n",
    "t = lower_name.count('t')\n",
    "r = lower_name.count('r')\n",
    "u = lower_name.count('u')\n",
    "e = lower_name.count('e')\n",
    "\n",
    "true = t+r+u+e\n",
    "\n",
    "l = lower_name.count('l')\n",
    "o = lower_name.count('o')\n",
    "v = lower_name.count('v')\n",
    "e = lower_name.count('e')\n",
    "love = l+o+v+e\n",
    "\n",
    "love_calc = str(true) + str(love)\n",
    "\n",
    "print(f\"Your Love Score is : {love_calc}\")\n",
    "    "
   ]
  },
  {
   "cell_type": "code",
   "execution_count": 13,
   "id": "da4f9c39",
   "metadata": {},
   "outputs": [
    {
     "name": "stdout",
     "output_type": "stream",
     "text": [
      "Welcome to the Island \n",
      "Your task is to find the treasure\n",
      "Enter the direction where you want to go 'Left' or 'Right'  : Left\n",
      "You came to lake.there is a island middle of the lake\n",
      " Type 'wait' to wait for a boat or Type 'Swim' to swim  Wait\n",
      "You arrive isand unharmed.there is a house with 3 doors.One red,One yelow and One blue.which color do you choose\n",
      "Enter House Color : yellow\n",
      "You find the treasure you win\n"
     ]
    }
   ],
   "source": [
    "print(\"Welcome to the Island \")\n",
    "print(\"Your task is to find the treasure\")\n",
    "\n",
    "direction = str(input(\"Enter the direction where you want to go 'Left' or 'Right'  : \").lower())\n",
    "if direction == 'left':\n",
    "    print(\"You came to lake.there is a island middle of the lake\")\n",
    "    opt = input(\" Type 'wait' to wait for a boat or Type 'Swim' to swim  \").lower()\n",
    "    if opt == 'wait':\n",
    "        print(\"You arrive isand unharmed.there is a house with 3 doors.One red,One yelow and One blue.which color do you choose\")\n",
    "        choose_house = input(\"Enter House Color : \").lower()\n",
    "        if choose_house == 'red':\n",
    "            print(\"Flames - Game over \")\n",
    "        elif choose_house == 'yellow':\n",
    "            print(\"You find the treasure you win\")\n",
    "        else:\n",
    "            print(\"Yoe fell into a hole - Game over\")\n",
    "    else:\n",
    "        print(\"Game Over\")\n",
    "else:\n",
    "    print(\"Game Over\")"
   ]
  },
  {
   "cell_type": "code",
   "execution_count": 14,
   "id": "7b063a3e",
   "metadata": {},
   "outputs": [
    {
     "name": "stdout",
     "output_type": "stream",
     "text": [
      "5\n",
      "0.40708234291559775\n",
      "4.569157174002276\n"
     ]
    }
   ],
   "source": [
    "import random \n",
    "\n",
    "random_integer = random.randint(1,23)\n",
    "print(random_integer)\n",
    "random_float = random.random()\n",
    "print(random_float )\n",
    "random_float = random.random()\n",
    "print(random_float * 5)"
   ]
  },
  {
   "cell_type": "code",
   "execution_count": 15,
   "id": "43283f15",
   "metadata": {},
   "outputs": [
    {
     "name": "stdout",
     "output_type": "stream",
     "text": [
      "Head\n"
     ]
    }
   ],
   "source": [
    "import random\n",
    "coin_side = random.randint(0,1)\n",
    "if coin_side == 1:\n",
    "    print(\"Head\")\n",
    "else:\n",
    "    print(\"Tails\")"
   ]
  },
  {
   "cell_type": "code",
   "execution_count": 16,
   "id": "cc6d2595",
   "metadata": {},
   "outputs": [
    {
     "data": {
      "text/plain": [
       "['Tamil Nadu', 'Maddy', 'Gujarath', 'Bengaluru', 'Krishna']"
      ]
     },
     "execution_count": 16,
     "metadata": {},
     "output_type": "execute_result"
    }
   ],
   "source": [
    "states_of_india = ['Tamil Nadu','Andra pradesh','Gujarath','Bengaluru']\n",
    "states_of_india[1] = 'Maddy'\n",
    "states_of_india.append(\"Krishna\")\n",
    "states_of_india"
   ]
  },
  {
   "cell_type": "code",
   "execution_count": 17,
   "id": "d00cd285",
   "metadata": {},
   "outputs": [
    {
     "name": "stdout",
     "output_type": "stream",
     "text": [
      "Enter your names Here : mad,asd,asd,\n",
      "['mad', 'asd', 'asd', '']\n",
      "asd is going to pay the bill\n"
     ]
    }
   ],
   "source": [
    "import random\n",
    "\n",
    "names = input(\"Enter your names Here : \")\n",
    "split_names = names.split(\",\")\n",
    "print(split_names)\n",
    "\n",
    "num_names = len(split_names)\n",
    "\n",
    "random_choice = random.randint(0,num_names-1 )\n",
    "person_who_pay = split_names[random_choice]\n",
    "print(person_who_pay,\"is going to pay the bill\")"
   ]
  },
  {
   "cell_type": "code",
   "execution_count": 18,
   "id": "209905f1",
   "metadata": {},
   "outputs": [
    {
     "name": "stdout",
     "output_type": "stream",
     "text": [
      "['😀', '😀', '😀']\n",
      "['😀', '😀', '😀']\n",
      "['😀', '😀', '😀']\n"
     ]
    }
   ],
   "source": [
    "row1 = ['😀','😀','😀']\n",
    "row2 = ['😀','😀','😀']\n",
    "row3 = ['😀','😀','😀']\n",
    "\n",
    "maps = [row1+row2+row3]\n",
    "#print(maps)\n",
    "print(f\"{row1}\\n{row2}\\n{row3}\")"
   ]
  },
  {
   "cell_type": "code",
   "execution_count": 1,
   "id": "3c1e426b",
   "metadata": {},
   "outputs": [
    {
     "name": "stdout",
     "output_type": "stream",
     "text": [
      "Rock Paper Scissor Game\n"
     ]
    }
   ],
   "source": [
    "import random\n",
    "\n",
    "print(\"Rock Paper Scissor Game\")\n",
    "\n",
    "user_choice = int(input(\"Enter your Choice 1 for 'Rock' 2 for 'Paper' 3 for 'scissor'    : \"))\n",
    "\n",
    "\n",
    "com_choice = random.randint(0,2)\n",
    "print(\"computer's Choice : \",com_choice)\n",
    "\n",
    "if user_choice >= 3 or user_choice < 0:\n",
    "    print(\"You type a wrong number you lose \")\n",
    "elif user_choice == 0 and com_choice == 2:\n",
    "    print(\"You Win ! !\")\n",
    "elif  com_choice == 0 and user_choice == 2:\n",
    "    print(\"You lose !\")\n",
    "elif user_choice == 1 and com_choice == 0:\n",
    "    print(\"You Win ! !\")\n",
    "elif  com_choice == 1 and user_choice == 2:\n",
    "    print(\"You lose !\")\n",
    "elif user_choice == 2 and com_choice == 1:\n",
    "    print(\"You Win ! !\")\n",
    "elif  com_choice == 2 and user_choice == 0:\n",
    "    print(\"You lose !\")\n",
    "elif com_choice > user_choice:\n",
    "    print(\"you lose !\")\n",
    "elif user_choice == com_choice:\n",
    "    print(\"Match Draw\")"
   ]
  },
  {
   "cell_type": "code",
   "execution_count": 20,
   "id": "ea6c1d47",
   "metadata": {},
   "outputs": [
    {
     "name": "stdout",
     "output_type": "stream",
     "text": [
      "apple mango "
     ]
    }
   ],
   "source": [
    "fruits = [\"apple\",\"mango\"]\n",
    "for fruit in fruits:\n",
    "    print(fruit,end=' ')"
   ]
  },
  {
   "cell_type": "code",
   "execution_count": 25,
   "id": "dd5b7b53",
   "metadata": {},
   "outputs": [
    {
     "name": "stdout",
     "output_type": "stream",
     "text": [
      "Enter the Height of Students : 12,123,23,231\n",
      "Students Average Height :  97\n"
     ]
    }
   ],
   "source": [
    "b=[]\n",
    "inpt =input(\"Enter the Height of Students : \")\n",
    "students_height=inpt.split(',')\n",
    "len_of_stu = len(students_height)\n",
    "\n",
    "for i in students_height:\n",
    "    c=int(i)\n",
    "    b.append(c)\n",
    "sum_height = sum(b)\n",
    "average = round(sum_height/len_of_stu)\n",
    "print(\"Students Average Height : \",int(average))"
   ]
  },
  {
   "cell_type": "code",
   "execution_count": 26,
   "id": "c42e6128",
   "metadata": {},
   "outputs": [
    {
     "name": "stdout",
     "output_type": "stream",
     "text": [
      "Enter the marks : 123,213,21312\n",
      "The Highest Mark is :  21312\n"
     ]
    }
   ],
   "source": [
    " inp = input(\"Enter the marks : \")\n",
    "mark = inp.split(',')\n",
    "score = []\n",
    "for n in mark:\n",
    "    a = int(n)\n",
    "    score.append(a)\n",
    "print(\"The Highest Mark is : \",max(score))"
   ]
  },
  {
   "cell_type": "code",
   "execution_count": 27,
   "id": "ea585aaa",
   "metadata": {},
   "outputs": [
    {
     "name": "stdout",
     "output_type": "stream",
     "text": [
      "Enter your marks : 123,123,123,123,12,3\n",
      "Your Highest Score :  123\n"
     ]
    }
   ],
   "source": [
    "inpu = input(\"Enter your marks : \").split(',')\n",
    "highest_score = 0\n",
    "for re in inpu:\n",
    "    score = int(re)\n",
    "    if score > highest_score:\n",
    "        highest_score = score\n",
    "print(\"Your Highest Score : \",highest_score)"
   ]
  },
  {
   "cell_type": "code",
   "execution_count": 30,
   "id": "f30a28b0",
   "metadata": {},
   "outputs": [
    {
     "name": "stdout",
     "output_type": "stream",
     "text": [
      "5050\n"
     ]
    }
   ],
   "source": [
    "total = 0\n",
    "for i in range(0,101):\n",
    "    total += i\n",
    "print(total)"
   ]
  },
  {
   "cell_type": "code",
   "execution_count": 31,
   "id": "099978cb",
   "metadata": {},
   "outputs": [
    {
     "name": "stdout",
     "output_type": "stream",
     "text": [
      "1\n",
      "2\n",
      "Fizz\n",
      "4\n",
      "Fizz Bizz\n",
      "Fizz\n",
      "7\n",
      "8\n",
      "Fizz\n",
      "Fizz Bizz\n",
      "11\n",
      "Fizz\n",
      "13\n",
      "14\n",
      "Bizz\n",
      "16\n",
      "17\n",
      "Fizz\n",
      "19\n"
     ]
    }
   ],
   "source": [
    "for i in range(1,20):\n",
    "    if i % 3 and i % 5 == 0:\n",
    "        print(\"Fizz Bizz\")\n",
    "\n",
    "    elif i % 5 == 0:\n",
    "        print(\"Bizz\")\n",
    "\n",
    "    elif  i % 3 ==0:\n",
    "        print(\"Fizz\")\n",
    "\n",
    "    else:\n",
    "        print(i)\n",
    "        "
   ]
  },
  {
   "cell_type": "code",
   "execution_count": 32,
   "id": "6c0e30ee",
   "metadata": {},
   "outputs": [
    {
     "name": "stdout",
     "output_type": "stream",
     "text": [
      "Hello\n"
     ]
    }
   ],
   "source": [
    "def fun():\n",
    "    print(\"Hello\")\n",
    "fun()"
   ]
  },
  {
   "cell_type": "code",
   "execution_count": 33,
   "id": "6f74164b",
   "metadata": {},
   "outputs": [],
   "source": [
    "class IPL_RCB():\n",
    "    def __init__(self,batsman,bowler):\n",
    "        self.batsman = batsman\n",
    "        self.bowler = bowler"
   ]
  },
  {
   "cell_type": "code",
   "execution_count": 34,
   "id": "466d8caa",
   "metadata": {},
   "outputs": [],
   "source": [
    "RCB = IPL_RCB(batsman = 'Virat Kohli',bowler = 'Umesh Yadav')"
   ]
  },
  {
   "cell_type": "code",
   "execution_count": 35,
   "id": "01ad910d",
   "metadata": {},
   "outputs": [
    {
     "data": {
      "text/plain": [
       "__main__.IPL_RCB"
      ]
     },
     "execution_count": 35,
     "metadata": {},
     "output_type": "execute_result"
    }
   ],
   "source": [
    "type(RCB)"
   ]
  },
  {
   "cell_type": "code",
   "execution_count": 36,
   "id": "98482af7",
   "metadata": {},
   "outputs": [
    {
     "data": {
      "text/plain": [
       "'Virat Kohli'"
      ]
     },
     "execution_count": 36,
     "metadata": {},
     "output_type": "execute_result"
    }
   ],
   "source": [
    "RCB.batsman"
   ]
  },
  {
   "cell_type": "code",
   "execution_count": 37,
   "id": "6103d686",
   "metadata": {},
   "outputs": [
    {
     "data": {
      "text/plain": [
       "'Umesh Yadav'"
      ]
     },
     "execution_count": 37,
     "metadata": {},
     "output_type": "execute_result"
    }
   ],
   "source": [
    "RCB.bowler"
   ]
  },
  {
   "cell_type": "code",
   "execution_count": 38,
   "id": "6bd312fd",
   "metadata": {},
   "outputs": [],
   "source": [
    "class IPL_CSK():\n",
    "    League = 'IPl'\n",
    "    def __init__(self,batsman,bowler): #--> Attributes\n",
    "        self.batsman = batsman #<-- Argument\n",
    "        self.bowler = bowler \n",
    "        \n",
    "    def price(self):\n",
    "        print(\"32 CORE\")"
   ]
  },
  {
   "cell_type": "code",
   "execution_count": 39,
   "id": "c526d2d5",
   "metadata": {},
   "outputs": [],
   "source": [
    "CSK = IPL_CSK(batsman = 'DHONI' ,bowler = 'BRAVO')"
   ]
  },
  {
   "cell_type": "code",
   "execution_count": 40,
   "id": "875dc2db",
   "metadata": {},
   "outputs": [
    {
     "name": "stdout",
     "output_type": "stream",
     "text": [
      "32 CORE\n"
     ]
    }
   ],
   "source": [
    "CSK.price()"
   ]
  },
  {
   "cell_type": "code",
   "execution_count": 41,
   "id": "005fa304",
   "metadata": {},
   "outputs": [],
   "source": [
    "class pet_name():\n",
    "    def __init__(self,name,spots,breed):\n",
    "        self.name = name\n",
    "        self.spots = spots\n",
    "        self.breed = breed"
   ]
  },
  {
   "cell_type": "code",
   "execution_count": 42,
   "id": "99fafc20",
   "metadata": {},
   "outputs": [],
   "source": [
    "My_dog = pet_name(name = 'Krishna',spots = False ,breed = 'lab')"
   ]
  },
  {
   "cell_type": "code",
   "execution_count": 43,
   "id": "4e9b386e",
   "metadata": {},
   "outputs": [
    {
     "data": {
      "text/plain": [
       "'Krishna'"
      ]
     },
     "execution_count": 43,
     "metadata": {},
     "output_type": "execute_result"
    }
   ],
   "source": [
    "My_dog.name"
   ]
  },
  {
   "cell_type": "code",
   "execution_count": 44,
   "id": "426a6ec8",
   "metadata": {},
   "outputs": [
    {
     "data": {
      "text/plain": [
       "False"
      ]
     },
     "execution_count": 44,
     "metadata": {},
     "output_type": "execute_result"
    }
   ],
   "source": [
    "My_dog.spots"
   ]
  },
  {
   "cell_type": "code",
   "execution_count": 45,
   "id": "2ef85e53",
   "metadata": {},
   "outputs": [],
   "source": [
    "class Pet():\n",
    "    def __init__(self):\n",
    "        print(\"It is default Statement\")\n",
    "    def food(self):\n",
    "        print(\"I eat only nonveg\")"
   ]
  },
  {
   "cell_type": "code",
   "execution_count": 46,
   "id": "bd76c06a",
   "metadata": {},
   "outputs": [
    {
     "name": "stdout",
     "output_type": "stream",
     "text": [
      "It is default Statement\n"
     ]
    }
   ],
   "source": [
    "pet = Pet()"
   ]
  },
  {
   "cell_type": "code",
   "execution_count": 47,
   "id": "4e328d4d",
   "metadata": {},
   "outputs": [
    {
     "name": "stdout",
     "output_type": "stream",
     "text": [
      "I eat only nonveg\n"
     ]
    }
   ],
   "source": [
    "pet.food()"
   ]
  },
  {
   "cell_type": "code",
   "execution_count": 48,
   "id": "400bec5f",
   "metadata": {},
   "outputs": [],
   "source": [
    "class Animal():\n",
    "    def __init__(self):\n",
    "        print(\"It is default Statement\")\n",
    "    def food(self):\n",
    "        print(\"I eat only nonveg\")\n",
    "    def names(self):\n",
    "        print(\"krishna\")"
   ]
  },
  {
   "cell_type": "code",
   "execution_count": 49,
   "id": "f47976b2",
   "metadata": {},
   "outputs": [
    {
     "name": "stdout",
     "output_type": "stream",
     "text": [
      "I eat only nonveg\n"
     ]
    }
   ],
   "source": [
    "Animal.food(123)"
   ]
  },
  {
   "cell_type": "code",
   "execution_count": 50,
   "id": "31638581",
   "metadata": {},
   "outputs": [
    {
     "name": "stdout",
     "output_type": "stream",
     "text": [
      "krishna\n"
     ]
    }
   ],
   "source": [
    "Animal.names(54)"
   ]
  },
  {
   "cell_type": "code",
   "execution_count": 51,
   "id": "a270f855",
   "metadata": {},
   "outputs": [],
   "source": [
    "class Dog(Animal):\n",
    "    def __init__(self):\n",
    "        Animal.__init__(self)\n",
    "        print(\"Second default\")\n",
    "    def who(self):\n",
    "        print(\"I'm dog\")"
   ]
  },
  {
   "cell_type": "code",
   "execution_count": 52,
   "id": "8463e839",
   "metadata": {},
   "outputs": [
    {
     "name": "stdout",
     "output_type": "stream",
     "text": [
      "It is default Statement\n",
      "Second default\n"
     ]
    }
   ],
   "source": [
    "my_dog = Dog()"
   ]
  },
  {
   "cell_type": "code",
   "execution_count": 53,
   "id": "1f7a0b32",
   "metadata": {},
   "outputs": [
    {
     "name": "stdout",
     "output_type": "stream",
     "text": [
      "I'm dog\n"
     ]
    }
   ],
   "source": [
    "my_dog.who()"
   ]
  },
  {
   "cell_type": "code",
   "execution_count": 54,
   "id": "121f4da2",
   "metadata": {},
   "outputs": [],
   "source": [
    "class Sample():\n",
    "    pass"
   ]
  },
  {
   "cell_type": "code",
   "execution_count": 55,
   "id": "ce4330a3",
   "metadata": {},
   "outputs": [
    {
     "data": {
      "text/plain": [
       "<__main__.Sample at 0x1390a9f8ac0>"
      ]
     },
     "execution_count": 55,
     "metadata": {},
     "output_type": "execute_result"
    }
   ],
   "source": [
    "Sample()"
   ]
  },
  {
   "cell_type": "code",
   "execution_count": 56,
   "id": "2a12f552",
   "metadata": {},
   "outputs": [
    {
     "ename": "TypeError",
     "evalue": "object of type 'Sample' has no len()",
     "output_type": "error",
     "traceback": [
      "\u001b[1;31m---------------------------------------------------------------------------\u001b[0m",
      "\u001b[1;31mTypeError\u001b[0m                                 Traceback (most recent call last)",
      "\u001b[1;32m<ipython-input-56-0a2ba7f8e8bf>\u001b[0m in \u001b[0;36m<module>\u001b[1;34m\u001b[0m\n\u001b[1;32m----> 1\u001b[1;33m \u001b[0mlen\u001b[0m\u001b[1;33m(\u001b[0m\u001b[0mSample\u001b[0m\u001b[1;33m(\u001b[0m\u001b[1;33m)\u001b[0m\u001b[1;33m)\u001b[0m\u001b[1;33m\u001b[0m\u001b[1;33m\u001b[0m\u001b[0m\n\u001b[0m",
      "\u001b[1;31mTypeError\u001b[0m: object of type 'Sample' has no len()"
     ]
    }
   ],
   "source": [
    "len(Sample())"
   ]
  },
  {
   "cell_type": "code",
   "execution_count": 57,
   "id": "2d5f0aa8",
   "metadata": {},
   "outputs": [],
   "source": [
    "class Book():\n",
    "    def __init__(self,name,author,pages):\n",
    "        self.name = name\n",
    "        self.author = author\n",
    "        self.pages = pages"
   ]
  },
  {
   "cell_type": "code",
   "execution_count": 58,
   "id": "97e4805f",
   "metadata": {},
   "outputs": [
    {
     "ename": "TypeError",
     "evalue": "__init__() missing 3 required positional arguments: 'name', 'author', and 'pages'",
     "output_type": "error",
     "traceback": [
      "\u001b[1;31m---------------------------------------------------------------------------\u001b[0m",
      "\u001b[1;31mTypeError\u001b[0m                                 Traceback (most recent call last)",
      "\u001b[1;32m<ipython-input-58-5eb0d05d90c2>\u001b[0m in \u001b[0;36m<module>\u001b[1;34m\u001b[0m\n\u001b[1;32m----> 1\u001b[1;33m \u001b[0mBook\u001b[0m\u001b[1;33m(\u001b[0m\u001b[1;33m)\u001b[0m\u001b[1;33m\u001b[0m\u001b[1;33m\u001b[0m\u001b[0m\n\u001b[0m",
      "\u001b[1;31mTypeError\u001b[0m: __init__() missing 3 required positional arguments: 'name', 'author', and 'pages'"
     ]
    }
   ],
   "source": [
    "Book()"
   ]
  },
  {
   "cell_type": "code",
   "execution_count": 59,
   "id": "d0f465ed",
   "metadata": {},
   "outputs": [],
   "source": [
    "class Book():\n",
    "    def __init__(self,title,author,pages):\n",
    "        self.title = title\n",
    "        self.author = author\n",
    "        self.pages = pages\n",
    "    \n",
    "    def __str__(self):\n",
    "        return f\"{self.title} by {self.author}\"\n",
    "    \n",
    "    def __len__(self):\n",
    "        return self.pages\n",
    "    \n",
    "    def __del__(self):\n",
    "        print(\"This statement has been deleted\")"
   ]
  },
  {
   "cell_type": "code",
   "execution_count": 60,
   "id": "ed7bd2b4",
   "metadata": {},
   "outputs": [],
   "source": [
    "check = Book('Python','Edison',200)"
   ]
  },
  {
   "cell_type": "code",
   "execution_count": 61,
   "id": "78528243",
   "metadata": {},
   "outputs": [
    {
     "name": "stdout",
     "output_type": "stream",
     "text": [
      "Python by Edison\n"
     ]
    }
   ],
   "source": [
    "print(check)"
   ]
  },
  {
   "cell_type": "code",
   "execution_count": 62,
   "id": "b9ea4868",
   "metadata": {},
   "outputs": [
    {
     "data": {
      "text/plain": [
       "'Python by Edison'"
      ]
     },
     "execution_count": 62,
     "metadata": {},
     "output_type": "execute_result"
    }
   ],
   "source": [
    "string = str(check)\n",
    "string"
   ]
  },
  {
   "cell_type": "code",
   "execution_count": 63,
   "id": "709fc276",
   "metadata": {},
   "outputs": [
    {
     "data": {
      "text/plain": [
       "200"
      ]
     },
     "execution_count": 63,
     "metadata": {},
     "output_type": "execute_result"
    }
   ],
   "source": [
    "length = len(check)\n",
    "length"
   ]
  },
  {
   "cell_type": "markdown",
   "id": "1b04a825",
   "metadata": {},
   "source": [
    "To delete statement"
   ]
  },
  {
   "cell_type": "code",
   "execution_count": 64,
   "id": "347e4a2c",
   "metadata": {},
   "outputs": [
    {
     "data": {
      "text/plain": [
       "<__main__.Book at 0x1390a9cb700>"
      ]
     },
     "execution_count": 64,
     "metadata": {},
     "output_type": "execute_result"
    }
   ],
   "source": [
    "check"
   ]
  },
  {
   "cell_type": "code",
   "execution_count": 65,
   "id": "816a54ca",
   "metadata": {},
   "outputs": [],
   "source": [
    "del check"
   ]
  },
  {
   "cell_type": "code",
   "execution_count": 66,
   "id": "c11fa91d",
   "metadata": {},
   "outputs": [
    {
     "ename": "NameError",
     "evalue": "name 'check' is not defined",
     "output_type": "error",
     "traceback": [
      "\u001b[1;31m---------------------------------------------------------------------------\u001b[0m",
      "\u001b[1;31mNameError\u001b[0m                                 Traceback (most recent call last)",
      "\u001b[1;32m<ipython-input-66-a2a7e1857040>\u001b[0m in \u001b[0;36m<module>\u001b[1;34m\u001b[0m\n\u001b[1;32m----> 1\u001b[1;33m \u001b[0mcheck\u001b[0m\u001b[1;33m\u001b[0m\u001b[1;33m\u001b[0m\u001b[0m\n\u001b[0m",
      "\u001b[1;31mNameError\u001b[0m: name 'check' is not defined"
     ]
    }
   ],
   "source": [
    "check"
   ]
  },
  {
   "cell_type": "code",
   "execution_count": 67,
   "id": "28cb3dec",
   "metadata": {},
   "outputs": [
    {
     "data": {
      "text/plain": [
       "'C:\\\\Users\\\\madhavan.bala'"
      ]
     },
     "execution_count": 67,
     "metadata": {},
     "output_type": "execute_result"
    }
   ],
   "source": [
    "pwd"
   ]
  },
  {
   "cell_type": "markdown",
   "id": "3661f806",
   "metadata": {},
   "source": [
    "CSV file "
   ]
  },
  {
   "cell_type": "code",
   "execution_count": 68,
   "id": "d8038f69",
   "metadata": {},
   "outputs": [],
   "source": [
    "import csv\n",
    "import pandas as pd"
   ]
  },
  {
   "cell_type": "code",
   "execution_count": 69,
   "id": "a3e1e108",
   "metadata": {},
   "outputs": [],
   "source": [
    "#open the file\n",
    "file_loc = open(r'C:\\Users\\madhavan.bala\\Downloads\\annual-enterprise-survey-2020-financial-year-provisional-csv.csv') \n",
    "                                                                                                    #,encoding= 'utf-8'"
   ]
  },
  {
   "cell_type": "code",
   "execution_count": 70,
   "id": "89e75bad",
   "metadata": {},
   "outputs": [
    {
     "data": {
      "text/plain": [
       "<_io.TextIOWrapper name='C:\\\\Users\\\\madhavan.bala\\\\Downloads\\\\annual-enterprise-survey-2020-financial-year-provisional-csv.csv' mode='r' encoding='cp1252'>"
      ]
     },
     "execution_count": 70,
     "metadata": {},
     "output_type": "execute_result"
    }
   ],
   "source": [
    "file_loc"
   ]
  },
  {
   "cell_type": "code",
   "execution_count": 71,
   "id": "c4355e85",
   "metadata": {},
   "outputs": [],
   "source": [
    "csv_data = csv.reader(file_loc)"
   ]
  },
  {
   "cell_type": "code",
   "execution_count": 72,
   "id": "f8804179",
   "metadata": {},
   "outputs": [],
   "source": [
    "data_line = list(csv_data)"
   ]
  },
  {
   "cell_type": "code",
   "execution_count": 73,
   "id": "1e56b225",
   "metadata": {},
   "outputs": [
    {
     "data": {
      "text/html": [
       "<div>\n",
       "<style scoped>\n",
       "    .dataframe tbody tr th:only-of-type {\n",
       "        vertical-align: middle;\n",
       "    }\n",
       "\n",
       "    .dataframe tbody tr th {\n",
       "        vertical-align: top;\n",
       "    }\n",
       "\n",
       "    .dataframe thead th {\n",
       "        text-align: right;\n",
       "    }\n",
       "</style>\n",
       "<table border=\"1\" class=\"dataframe\">\n",
       "  <thead>\n",
       "    <tr style=\"text-align: right;\">\n",
       "      <th></th>\n",
       "      <th>0</th>\n",
       "      <th>1</th>\n",
       "      <th>2</th>\n",
       "      <th>3</th>\n",
       "      <th>4</th>\n",
       "      <th>5</th>\n",
       "      <th>6</th>\n",
       "      <th>7</th>\n",
       "      <th>8</th>\n",
       "      <th>9</th>\n",
       "    </tr>\n",
       "  </thead>\n",
       "  <tbody>\n",
       "    <tr>\n",
       "      <th>0</th>\n",
       "      <td>Year</td>\n",
       "      <td>Industry_aggregation_NZSIOC</td>\n",
       "      <td>Industry_code_NZSIOC</td>\n",
       "      <td>Industry_name_NZSIOC</td>\n",
       "      <td>Units</td>\n",
       "      <td>Variable_code</td>\n",
       "      <td>Variable_name</td>\n",
       "      <td>Variable_category</td>\n",
       "      <td>Value</td>\n",
       "      <td>Industry_code_ANZSIC06</td>\n",
       "    </tr>\n",
       "    <tr>\n",
       "      <th>1</th>\n",
       "      <td>2020</td>\n",
       "      <td>Level 1</td>\n",
       "      <td>99999</td>\n",
       "      <td>All industries</td>\n",
       "      <td>Dollars (millions)</td>\n",
       "      <td>H01</td>\n",
       "      <td>Total income</td>\n",
       "      <td>Financial performance</td>\n",
       "      <td>733,258</td>\n",
       "      <td>ANZSIC06 divisions A-S (excluding classes K633...</td>\n",
       "    </tr>\n",
       "    <tr>\n",
       "      <th>2</th>\n",
       "      <td>2020</td>\n",
       "      <td>Level 1</td>\n",
       "      <td>99999</td>\n",
       "      <td>All industries</td>\n",
       "      <td>Dollars (millions)</td>\n",
       "      <td>H04</td>\n",
       "      <td>Sales, government funding, grants and subsidies</td>\n",
       "      <td>Financial performance</td>\n",
       "      <td>660,630</td>\n",
       "      <td>ANZSIC06 divisions A-S (excluding classes K633...</td>\n",
       "    </tr>\n",
       "    <tr>\n",
       "      <th>3</th>\n",
       "      <td>2020</td>\n",
       "      <td>Level 1</td>\n",
       "      <td>99999</td>\n",
       "      <td>All industries</td>\n",
       "      <td>Dollars (millions)</td>\n",
       "      <td>H05</td>\n",
       "      <td>Interest, dividends and donations</td>\n",
       "      <td>Financial performance</td>\n",
       "      <td>54,342</td>\n",
       "      <td>ANZSIC06 divisions A-S (excluding classes K633...</td>\n",
       "    </tr>\n",
       "    <tr>\n",
       "      <th>4</th>\n",
       "      <td>2020</td>\n",
       "      <td>Level 1</td>\n",
       "      <td>99999</td>\n",
       "      <td>All industries</td>\n",
       "      <td>Dollars (millions)</td>\n",
       "      <td>H07</td>\n",
       "      <td>Non-operating income</td>\n",
       "      <td>Financial performance</td>\n",
       "      <td>18,285</td>\n",
       "      <td>ANZSIC06 divisions A-S (excluding classes K633...</td>\n",
       "    </tr>\n",
       "    <tr>\n",
       "      <th>...</th>\n",
       "      <td>...</td>\n",
       "      <td>...</td>\n",
       "      <td>...</td>\n",
       "      <td>...</td>\n",
       "      <td>...</td>\n",
       "      <td>...</td>\n",
       "      <td>...</td>\n",
       "      <td>...</td>\n",
       "      <td>...</td>\n",
       "      <td>...</td>\n",
       "    </tr>\n",
       "    <tr>\n",
       "      <th>37076</th>\n",
       "      <td>2013</td>\n",
       "      <td>Level 3</td>\n",
       "      <td>ZZ11</td>\n",
       "      <td>Food product manufacturing</td>\n",
       "      <td>Percentage</td>\n",
       "      <td>H37</td>\n",
       "      <td>Quick ratio</td>\n",
       "      <td>Financial ratios</td>\n",
       "      <td>52</td>\n",
       "      <td>ANZSIC06 groups C111, C112, C113, C114, C115, ...</td>\n",
       "    </tr>\n",
       "    <tr>\n",
       "      <th>37077</th>\n",
       "      <td>2013</td>\n",
       "      <td>Level 3</td>\n",
       "      <td>ZZ11</td>\n",
       "      <td>Food product manufacturing</td>\n",
       "      <td>Percentage</td>\n",
       "      <td>H38</td>\n",
       "      <td>Margin on sales of goods for resale</td>\n",
       "      <td>Financial ratios</td>\n",
       "      <td>40</td>\n",
       "      <td>ANZSIC06 groups C111, C112, C113, C114, C115, ...</td>\n",
       "    </tr>\n",
       "    <tr>\n",
       "      <th>37078</th>\n",
       "      <td>2013</td>\n",
       "      <td>Level 3</td>\n",
       "      <td>ZZ11</td>\n",
       "      <td>Food product manufacturing</td>\n",
       "      <td>Percentage</td>\n",
       "      <td>H39</td>\n",
       "      <td>Return on equity</td>\n",
       "      <td>Financial ratios</td>\n",
       "      <td>12</td>\n",
       "      <td>ANZSIC06 groups C111, C112, C113, C114, C115, ...</td>\n",
       "    </tr>\n",
       "    <tr>\n",
       "      <th>37079</th>\n",
       "      <td>2013</td>\n",
       "      <td>Level 3</td>\n",
       "      <td>ZZ11</td>\n",
       "      <td>Food product manufacturing</td>\n",
       "      <td>Percentage</td>\n",
       "      <td>H40</td>\n",
       "      <td>Return on total assets</td>\n",
       "      <td>Financial ratios</td>\n",
       "      <td>5</td>\n",
       "      <td>ANZSIC06 groups C111, C112, C113, C114, C115, ...</td>\n",
       "    </tr>\n",
       "    <tr>\n",
       "      <th>37080</th>\n",
       "      <td>2013</td>\n",
       "      <td>Level 3</td>\n",
       "      <td>ZZ11</td>\n",
       "      <td>Food product manufacturing</td>\n",
       "      <td>Percentage</td>\n",
       "      <td>H41</td>\n",
       "      <td>Liabilities structure</td>\n",
       "      <td>Financial ratios</td>\n",
       "      <td>46</td>\n",
       "      <td>ANZSIC06 groups C111, C112, C113, C114, C115, ...</td>\n",
       "    </tr>\n",
       "  </tbody>\n",
       "</table>\n",
       "<p>37081 rows × 10 columns</p>\n",
       "</div>"
      ],
      "text/plain": [
       "          0                            1                     2  \\\n",
       "0      Year  Industry_aggregation_NZSIOC  Industry_code_NZSIOC   \n",
       "1      2020                      Level 1                 99999   \n",
       "2      2020                      Level 1                 99999   \n",
       "3      2020                      Level 1                 99999   \n",
       "4      2020                      Level 1                 99999   \n",
       "...     ...                          ...                   ...   \n",
       "37076  2013                      Level 3                  ZZ11   \n",
       "37077  2013                      Level 3                  ZZ11   \n",
       "37078  2013                      Level 3                  ZZ11   \n",
       "37079  2013                      Level 3                  ZZ11   \n",
       "37080  2013                      Level 3                  ZZ11   \n",
       "\n",
       "                                3                   4              5  \\\n",
       "0            Industry_name_NZSIOC               Units  Variable_code   \n",
       "1                  All industries  Dollars (millions)            H01   \n",
       "2                  All industries  Dollars (millions)            H04   \n",
       "3                  All industries  Dollars (millions)            H05   \n",
       "4                  All industries  Dollars (millions)            H07   \n",
       "...                           ...                 ...            ...   \n",
       "37076  Food product manufacturing          Percentage            H37   \n",
       "37077  Food product manufacturing          Percentage            H38   \n",
       "37078  Food product manufacturing          Percentage            H39   \n",
       "37079  Food product manufacturing          Percentage            H40   \n",
       "37080  Food product manufacturing          Percentage            H41   \n",
       "\n",
       "                                                     6                      7  \\\n",
       "0                                        Variable_name      Variable_category   \n",
       "1                                         Total income  Financial performance   \n",
       "2      Sales, government funding, grants and subsidies  Financial performance   \n",
       "3                    Interest, dividends and donations  Financial performance   \n",
       "4                                 Non-operating income  Financial performance   \n",
       "...                                                ...                    ...   \n",
       "37076                                      Quick ratio       Financial ratios   \n",
       "37077              Margin on sales of goods for resale       Financial ratios   \n",
       "37078                                 Return on equity       Financial ratios   \n",
       "37079                           Return on total assets       Financial ratios   \n",
       "37080                            Liabilities structure       Financial ratios   \n",
       "\n",
       "             8                                                  9  \n",
       "0        Value                             Industry_code_ANZSIC06  \n",
       "1      733,258  ANZSIC06 divisions A-S (excluding classes K633...  \n",
       "2      660,630  ANZSIC06 divisions A-S (excluding classes K633...  \n",
       "3       54,342  ANZSIC06 divisions A-S (excluding classes K633...  \n",
       "4       18,285  ANZSIC06 divisions A-S (excluding classes K633...  \n",
       "...        ...                                                ...  \n",
       "37076       52  ANZSIC06 groups C111, C112, C113, C114, C115, ...  \n",
       "37077       40  ANZSIC06 groups C111, C112, C113, C114, C115, ...  \n",
       "37078       12  ANZSIC06 groups C111, C112, C113, C114, C115, ...  \n",
       "37079        5  ANZSIC06 groups C111, C112, C113, C114, C115, ...  \n",
       "37080       46  ANZSIC06 groups C111, C112, C113, C114, C115, ...  \n",
       "\n",
       "[37081 rows x 10 columns]"
      ]
     },
     "execution_count": 73,
     "metadata": {},
     "output_type": "execute_result"
    }
   ],
   "source": [
    "datas = pd.DataFrame(data_line)\n",
    "datas"
   ]
  },
  {
   "cell_type": "code",
   "execution_count": 77,
   "id": "d4acfafa",
   "metadata": {},
   "outputs": [],
   "source": [
    "col_name = [\"Year\",\"Industry_aggregation_NZSIOC\",\"Units\",\"Variable_code\"]\n",
    "data_read=pd.read_csv(r'C:\\Users\\madhavan.bala\\Downloads\\annual-enterprise-survey-2020-financial-year-provisional-csv.csv',usecols = col_name)"
   ]
  },
  {
   "cell_type": "code",
   "execution_count": 78,
   "id": "6b8995b4",
   "metadata": {},
   "outputs": [
    {
     "data": {
      "text/html": [
       "<div>\n",
       "<style scoped>\n",
       "    .dataframe tbody tr th:only-of-type {\n",
       "        vertical-align: middle;\n",
       "    }\n",
       "\n",
       "    .dataframe tbody tr th {\n",
       "        vertical-align: top;\n",
       "    }\n",
       "\n",
       "    .dataframe thead th {\n",
       "        text-align: right;\n",
       "    }\n",
       "</style>\n",
       "<table border=\"1\" class=\"dataframe\">\n",
       "  <thead>\n",
       "    <tr style=\"text-align: right;\">\n",
       "      <th></th>\n",
       "      <th>Year</th>\n",
       "      <th>Industry_aggregation_NZSIOC</th>\n",
       "      <th>Units</th>\n",
       "      <th>Variable_code</th>\n",
       "    </tr>\n",
       "  </thead>\n",
       "  <tbody>\n",
       "    <tr>\n",
       "      <th>0</th>\n",
       "      <td>2020</td>\n",
       "      <td>Level 1</td>\n",
       "      <td>Dollars (millions)</td>\n",
       "      <td>H01</td>\n",
       "    </tr>\n",
       "    <tr>\n",
       "      <th>1</th>\n",
       "      <td>2020</td>\n",
       "      <td>Level 1</td>\n",
       "      <td>Dollars (millions)</td>\n",
       "      <td>H04</td>\n",
       "    </tr>\n",
       "    <tr>\n",
       "      <th>2</th>\n",
       "      <td>2020</td>\n",
       "      <td>Level 1</td>\n",
       "      <td>Dollars (millions)</td>\n",
       "      <td>H05</td>\n",
       "    </tr>\n",
       "    <tr>\n",
       "      <th>3</th>\n",
       "      <td>2020</td>\n",
       "      <td>Level 1</td>\n",
       "      <td>Dollars (millions)</td>\n",
       "      <td>H07</td>\n",
       "    </tr>\n",
       "    <tr>\n",
       "      <th>4</th>\n",
       "      <td>2020</td>\n",
       "      <td>Level 1</td>\n",
       "      <td>Dollars (millions)</td>\n",
       "      <td>H08</td>\n",
       "    </tr>\n",
       "    <tr>\n",
       "      <th>5</th>\n",
       "      <td>2020</td>\n",
       "      <td>Level 1</td>\n",
       "      <td>Dollars (millions)</td>\n",
       "      <td>H09</td>\n",
       "    </tr>\n",
       "    <tr>\n",
       "      <th>6</th>\n",
       "      <td>2020</td>\n",
       "      <td>Level 1</td>\n",
       "      <td>Dollars (millions)</td>\n",
       "      <td>H10</td>\n",
       "    </tr>\n",
       "    <tr>\n",
       "      <th>7</th>\n",
       "      <td>2020</td>\n",
       "      <td>Level 1</td>\n",
       "      <td>Dollars (millions)</td>\n",
       "      <td>H11</td>\n",
       "    </tr>\n",
       "    <tr>\n",
       "      <th>8</th>\n",
       "      <td>2020</td>\n",
       "      <td>Level 1</td>\n",
       "      <td>Dollars (millions)</td>\n",
       "      <td>H12</td>\n",
       "    </tr>\n",
       "    <tr>\n",
       "      <th>9</th>\n",
       "      <td>2020</td>\n",
       "      <td>Level 1</td>\n",
       "      <td>Dollars (millions)</td>\n",
       "      <td>H13</td>\n",
       "    </tr>\n",
       "    <tr>\n",
       "      <th>10</th>\n",
       "      <td>2020</td>\n",
       "      <td>Level 1</td>\n",
       "      <td>Dollars (millions)</td>\n",
       "      <td>H14</td>\n",
       "    </tr>\n",
       "    <tr>\n",
       "      <th>11</th>\n",
       "      <td>2020</td>\n",
       "      <td>Level 1</td>\n",
       "      <td>Dollars (millions)</td>\n",
       "      <td>H19</td>\n",
       "    </tr>\n",
       "    <tr>\n",
       "      <th>12</th>\n",
       "      <td>2020</td>\n",
       "      <td>Level 1</td>\n",
       "      <td>Dollars (millions)</td>\n",
       "      <td>H20</td>\n",
       "    </tr>\n",
       "    <tr>\n",
       "      <th>13</th>\n",
       "      <td>2020</td>\n",
       "      <td>Level 1</td>\n",
       "      <td>Dollars (millions)</td>\n",
       "      <td>H21</td>\n",
       "    </tr>\n",
       "    <tr>\n",
       "      <th>14</th>\n",
       "      <td>2020</td>\n",
       "      <td>Level 1</td>\n",
       "      <td>Dollars (millions)</td>\n",
       "      <td>H22</td>\n",
       "    </tr>\n",
       "    <tr>\n",
       "      <th>15</th>\n",
       "      <td>2020</td>\n",
       "      <td>Level 1</td>\n",
       "      <td>Dollars (millions)</td>\n",
       "      <td>H23</td>\n",
       "    </tr>\n",
       "    <tr>\n",
       "      <th>16</th>\n",
       "      <td>2020</td>\n",
       "      <td>Level 1</td>\n",
       "      <td>Dollars (millions)</td>\n",
       "      <td>H24</td>\n",
       "    </tr>\n",
       "    <tr>\n",
       "      <th>17</th>\n",
       "      <td>2020</td>\n",
       "      <td>Level 1</td>\n",
       "      <td>Dollars (millions)</td>\n",
       "      <td>H25</td>\n",
       "    </tr>\n",
       "    <tr>\n",
       "      <th>18</th>\n",
       "      <td>2020</td>\n",
       "      <td>Level 1</td>\n",
       "      <td>Dollars (millions)</td>\n",
       "      <td>H26</td>\n",
       "    </tr>\n",
       "    <tr>\n",
       "      <th>19</th>\n",
       "      <td>2020</td>\n",
       "      <td>Level 1</td>\n",
       "      <td>Dollars (millions)</td>\n",
       "      <td>H29</td>\n",
       "    </tr>\n",
       "  </tbody>\n",
       "</table>\n",
       "</div>"
      ],
      "text/plain": [
       "    Year Industry_aggregation_NZSIOC               Units Variable_code\n",
       "0   2020                     Level 1  Dollars (millions)           H01\n",
       "1   2020                     Level 1  Dollars (millions)           H04\n",
       "2   2020                     Level 1  Dollars (millions)           H05\n",
       "3   2020                     Level 1  Dollars (millions)           H07\n",
       "4   2020                     Level 1  Dollars (millions)           H08\n",
       "5   2020                     Level 1  Dollars (millions)           H09\n",
       "6   2020                     Level 1  Dollars (millions)           H10\n",
       "7   2020                     Level 1  Dollars (millions)           H11\n",
       "8   2020                     Level 1  Dollars (millions)           H12\n",
       "9   2020                     Level 1  Dollars (millions)           H13\n",
       "10  2020                     Level 1  Dollars (millions)           H14\n",
       "11  2020                     Level 1  Dollars (millions)           H19\n",
       "12  2020                     Level 1  Dollars (millions)           H20\n",
       "13  2020                     Level 1  Dollars (millions)           H21\n",
       "14  2020                     Level 1  Dollars (millions)           H22\n",
       "15  2020                     Level 1  Dollars (millions)           H23\n",
       "16  2020                     Level 1  Dollars (millions)           H24\n",
       "17  2020                     Level 1  Dollars (millions)           H25\n",
       "18  2020                     Level 1  Dollars (millions)           H26\n",
       "19  2020                     Level 1  Dollars (millions)           H29"
      ]
     },
     "execution_count": 78,
     "metadata": {},
     "output_type": "execute_result"
    }
   ],
   "source": [
    "data_read[0:20]"
   ]
  },
  {
   "cell_type": "code",
   "execution_count": 79,
   "id": "3f6551d6",
   "metadata": {},
   "outputs": [],
   "source": [
    "first_10_codes = data_read.Variable_code[:10]"
   ]
  },
  {
   "cell_type": "code",
   "execution_count": 80,
   "id": "4a62537b",
   "metadata": {},
   "outputs": [],
   "source": [
    "levels = data_read.Industry_aggregation_NZSIOC[:10]"
   ]
  },
  {
   "cell_type": "code",
   "execution_count": 81,
   "id": "5cce8081",
   "metadata": {},
   "outputs": [],
   "source": [
    "first_part = []\n",
    "for i in first_10_codes:\n",
    "    first_part.append(i)"
   ]
  },
  {
   "cell_type": "code",
   "execution_count": 82,
   "id": "26e09094",
   "metadata": {},
   "outputs": [],
   "source": [
    "#create_csv_file = datas.to_csv('New_own')"
   ]
  },
  {
   "cell_type": "code",
   "execution_count": 83,
   "id": "80cfa11f",
   "metadata": {},
   "outputs": [
    {
     "data": {
      "text/plain": [
       "['H01', 'H04', 'H05', 'H07', 'H08', 'H09', 'H10', 'H11', 'H12', 'H13']"
      ]
     },
     "execution_count": 83,
     "metadata": {},
     "output_type": "execute_result"
    }
   ],
   "source": [
    "first_part"
   ]
  },
  {
   "cell_type": "code",
   "execution_count": 84,
   "id": "af91c81e",
   "metadata": {},
   "outputs": [],
   "source": [
    "idt = first_10_codes + \"  \"+  levels"
   ]
  },
  {
   "cell_type": "code",
   "execution_count": 85,
   "id": "d349ec17",
   "metadata": {},
   "outputs": [
    {
     "data": {
      "text/plain": [
       "0    H01  Level 1\n",
       "1    H04  Level 1\n",
       "2    H05  Level 1\n",
       "3    H07  Level 1\n",
       "4    H08  Level 1\n",
       "5    H09  Level 1\n",
       "6    H10  Level 1\n",
       "7    H11  Level 1\n",
       "8    H12  Level 1\n",
       "9    H13  Level 1\n",
       "dtype: object"
      ]
     },
     "execution_count": 85,
     "metadata": {},
     "output_type": "execute_result"
    }
   ],
   "source": [
    "idt"
   ]
  },
  {
   "cell_type": "markdown",
   "id": "3731d32a",
   "metadata": {},
   "source": [
    "PDF file"
   ]
  },
  {
   "cell_type": "code",
   "execution_count": 86,
   "id": "fb21a517",
   "metadata": {},
   "outputs": [
    {
     "name": "stdout",
     "output_type": "stream",
     "text": [
      "1 Pages Here\n"
     ]
    }
   ],
   "source": [
    "import PyPDF2\n",
    "pdf_file = open('C:/Users/madhavan.bala/Downloads/task.pdf','rb')\n",
    "pdf_reader = PyPDF2.PdfFileReader(pdf_file)\n",
    "num_of_pages = pdf_reader.numPages\n",
    "print(num_of_pages,\"Pages Here\")"
   ]
  },
  {
   "cell_type": "code",
   "execution_count": 87,
   "id": "f243b411",
   "metadata": {},
   "outputs": [
    {
     "name": "stdout",
     "output_type": "stream",
     "text": [
      "Lorem Ipsum\n",
      " \n",
      "is simply dummy text of the printing and typesetting industry. Lorem Ipsum has been \n",
      "the industry's standard dummy text ever since the 1500s, when an unknown printer took a galley of \n",
      "type and scrambled it to make a type specimen book. It has \n",
      "survived not only five centuries, but also \n",
      "the leap into electronic typesetting, remaining essentially unchanged. It was popularised in the \n",
      "1960s with the release of Letraset sheets containing Lorem Ipsum passages, and more recently with \n",
      "desktop publishing\n",
      " \n",
      "software like Aldus PageMaker including versions of Lorem Ipsum.\n",
      " \n",
      " \n",
      "Lorem Ipsum\n",
      " \n",
      "is simply dummy text of the printing and typesetting industry. Lorem Ipsum has been \n",
      "the industry's standard dummy text ever since the 1500s, when an unknown printer took a galle\n",
      "y of \n",
      "type and scrambled it to make a type specimen book. It has survived not only five centuries, but also \n",
      "the leap into electronic typesetting, remaining essentially unchanged. It was popularised in the \n",
      "1960s with the release of Letraset sheets containing\n",
      " \n",
      "Lorem Ipsum passages, and more recently with \n",
      "desktop publishing software like Aldus PageMaker including versions of Lorem Ipsum.\n",
      " \n",
      " \n",
      "Lorem Ipsum\n",
      " \n",
      "is simply dummy text of the printing and typesetting industry. Lorem Ipsum has been \n",
      "the industry's standard dummy\n",
      " \n",
      "text ever since the 1500s, when an unknown printer took a galley of \n",
      "type and scrambled it to make a type specimen book. It has survived not only five centuries, but also \n",
      "the leap into electronic typesetting, remaining essentially unchanged. It was popular\n",
      "ised in the \n",
      "1960s with the release of Letraset sheets containing Lorem Ipsum passages, and more recently with \n",
      "desktop publishing software like Aldus PageMaker including versions of Lorem Ipsum.\n",
      " \n",
      " \n",
      "Lorem Ipsum\n",
      " \n",
      "is simply dummy text of the printing and typesett\n",
      "ing industry. Lorem Ipsum has been \n",
      "the industry's standard dummy text ever since the 1500s, when an unknown printer took a galley of \n",
      "type and scrambled it to make a type specimen book. It has survived not only five centuries, but also \n",
      "the leap into electro\n",
      "nic typesetting, remaining essentially unchanged. It was popularised in the \n",
      "1960s with the release of Letraset sheets containing Lorem Ipsum passages, and more recently with \n",
      "desktop publishing software like Aldus PageMaker including versions of Lorem Ipsum\n",
      ".\n",
      " \n",
      " \n",
      "Lorem Ipsum\n",
      " \n",
      "is simply dummy text of the printing and typesetting industry. Lorem Ipsum has been \n",
      "the industry's standard dummy text ever since the 1500s, when an unknown printer took a galley of \n",
      "type and scrambled it to make a type specimen book. It has \n",
      "survived not only five centuries, but also \n",
      "the leap into electronic typesetting, remaining essentially unchanged. It was popularised in the \n",
      "1960s with the release of Letraset sheets containing Lorem Ipsum passages, and more recently with \n",
      "desktop publishing\n",
      " \n",
      "software like Aldus PageMaker including versions of Lorem Ipsum.\n",
      " \n",
      " \n",
      "Lorem Ipsum\n",
      " \n",
      "is simply dummy text of the printing and typesetting industry. Lorem Ipsum has been \n",
      "the industry's standard dummy text ever since the 1500s, when an unknown printer took a galle\n",
      "y of \n",
      "type and scrambled it to make a type specimen book. It has survived not only five centuries, but also \n",
      "the leap into electronic typesetting, remaining essentially unchanged. It was popularised in the \n",
      "1960s with the release of Letraset sheets containing\n",
      " \n",
      "Lorem Ipsum passages, and more recently with \n",
      "desktop publishing software like Aldus PageMaker including versions of Lorem Ipsum.\n",
      " \n",
      " \n",
      "\n"
     ]
    }
   ],
   "source": [
    "page_one = pdf_reader.getPage(0)\n",
    "first_page = page_one.extractText()\n",
    "print(first_page)"
   ]
  },
  {
   "cell_type": "code",
   "execution_count": 88,
   "id": "b5bfdb1c",
   "metadata": {},
   "outputs": [],
   "source": [
    "pdf_file.close()"
   ]
  },
  {
   "cell_type": "code",
   "execution_count": 89,
   "id": "c5b56577",
   "metadata": {},
   "outputs": [],
   "source": [
    "f = open('C:/Users/madhavan.bala/Downloads/task.pdf','rb')\n",
    "pdf_read = PyPDF2.PdfFileReader(f)\n",
    "first_page = pdf_read.getPage(0)"
   ]
  },
  {
   "cell_type": "code",
   "execution_count": 104,
   "id": "6442becd",
   "metadata": {},
   "outputs": [],
   "source": [
    "pdf_write = PyPDF2.PdfFileWriter()"
   ]
  },
  {
   "cell_type": "code",
   "execution_count": 91,
   "id": "9f2817bc",
   "metadata": {},
   "outputs": [
    {
     "name": "stdout",
     "output_type": "stream",
     "text": [
      "{'/Type': '/Page', '/Contents': IndirectObject(98, 0), '/Resources': IndirectObject(96, 0), '/MediaBox': [0, 0, 595.27, 841.89], '/Parent': IndirectObject(66, 0)}\n"
     ]
    }
   ],
   "source": [
    "file = open('C:/Users/madhavan.bala/Downloads/final.pdf','rb')\n",
    "pdf_read = PyPDF2.PdfFileReader(file)\n",
    "first_page = pdf_read.getPage(3)\n",
    "print(first_page)"
   ]
  },
  {
   "cell_type": "code",
   "execution_count": 92,
   "id": "87c0c240",
   "metadata": {},
   "outputs": [],
   "source": [
    "tex = first_page.extractText()"
   ]
  },
  {
   "cell_type": "code",
   "execution_count": 93,
   "id": "c220b65b",
   "metadata": {},
   "outputs": [
    {
     "name": "stdout",
     "output_type": "stream",
     "text": [
      "4\n",
      "CONTENTS\n",
      "\n"
     ]
    }
   ],
   "source": [
    "print(tex)"
   ]
  },
  {
   "cell_type": "code",
   "execution_count": 94,
   "id": "3c011542",
   "metadata": {},
   "outputs": [
    {
     "name": "stdout",
     "output_type": "stream",
     "text": [
      "Concatenation\n"
     ]
    },
    {
     "data": {
      "text/plain": [
       "'RaceCar'"
      ]
     },
     "execution_count": 94,
     "metadata": {},
     "output_type": "execute_result"
    }
   ],
   "source": [
    "print(\"Concatenation\")\n",
    "\"Race\"+\"Car\""
   ]
  },
  {
   "cell_type": "code",
   "execution_count": 95,
   "id": "92743adc",
   "metadata": {},
   "outputs": [
    {
     "data": {
      "text/plain": [
       "'maddy maddy maddy maddy maddy '"
      ]
     },
     "execution_count": 95,
     "metadata": {},
     "output_type": "execute_result"
    }
   ],
   "source": [
    "\"maddy \"*5"
   ]
  },
  {
   "cell_type": "code",
   "execution_count": 96,
   "id": "106c770d",
   "metadata": {},
   "outputs": [],
   "source": [
    "def exam(sum=56):\n",
    "    total = sum + sum\n",
    "    sub = sum - sum\n",
    "    mul = sum * sum\n",
    "    return total,sub,mul"
   ]
  },
  {
   "cell_type": "code",
   "execution_count": 97,
   "id": "4ca41fdb",
   "metadata": {},
   "outputs": [
    {
     "data": {
      "text/plain": [
       "(246, 0, 15129)"
      ]
     },
     "execution_count": 97,
     "metadata": {},
     "output_type": "execute_result"
    }
   ],
   "source": [
    "exam(123)"
   ]
  },
  {
   "cell_type": "code",
   "execution_count": 98,
   "id": "7520c874",
   "metadata": {},
   "outputs": [],
   "source": [
    "def exam(sum2 = 56):\n",
    "    total = sum2 + sum2\n",
    "    sub = sum2 - sum2\n",
    "    mul = sum2 * sum2\n",
    "    return total,sub,mul"
   ]
  },
  {
   "cell_type": "code",
   "execution_count": 99,
   "id": "9ec01c6c",
   "metadata": {},
   "outputs": [
    {
     "data": {
      "text/plain": [
       "(112, 0, 3136)"
      ]
     },
     "execution_count": 99,
     "metadata": {},
     "output_type": "execute_result"
    }
   ],
   "source": [
    "exam()"
   ]
  },
  {
   "cell_type": "code",
   "execution_count": 100,
   "id": "93c244c1",
   "metadata": {},
   "outputs": [],
   "source": [
    "def exam(sum2 = 56):\n",
    "    total = sum2 + sum2\n",
    "    sub = sum2 - sum2\n",
    "    mul = sum2 * sum2\n",
    "    return total,sub,mul"
   ]
  },
  {
   "cell_type": "code",
   "execution_count": 101,
   "id": "15f0daa5",
   "metadata": {},
   "outputs": [
    {
     "data": {
      "text/plain": [
       "(196, 0, 9604)"
      ]
     },
     "execution_count": 101,
     "metadata": {},
     "output_type": "execute_result"
    }
   ],
   "source": [
    "exam(98)"
   ]
  },
  {
   "cell_type": "code",
   "execution_count": 102,
   "id": "8616e88d",
   "metadata": {},
   "outputs": [],
   "source": [
    "str_example = \"     Madhavan Associative Software Developer     \""
   ]
  },
  {
   "cell_type": "code",
   "execution_count": 103,
   "id": "85fd7aba",
   "metadata": {
    "scrolled": true
   },
   "outputs": [
    {
     "name": "stdout",
     "output_type": "stream",
     "text": [
      "     MADHAVAN ASSOCIATIVE SOFTWARE DEVELOPER     \n",
      "     madhavan associative software developer     \n",
      "     mADHAVAN aSSOCIATIVE sOFTWARE dEVELOPER     \n",
      "     madhavan associative software developer     \n",
      "     Madhavan Associative Software Developer     \n",
      "Madhavan Associative Software Developer     \n",
      "     Madhavan Associative Software Developer\n",
      "['Madhavan', 'Associative', 'Software', 'Developer']\n",
      "     Madhavan Senior Software Developer     \n",
      "Krishna Associative Software Developer\n",
      "False\n",
      "True\n",
      "True\n",
      "False\n"
     ]
    }
   ],
   "source": [
    "print(str_example.upper())\n",
    "print(str_example.lower())\n",
    "print(str_example.swapcase())\n",
    "print(str_example.capitalize())\n",
    "print(str_example.title())\n",
    "print(str_example.lstrip())\n",
    "print(str_example.rstrip())\n",
    "print(str_example.split())\n",
    "print(str_example.replace('Associative','Senior'))\n",
    "print(str_example.strip().replace('Madhavan','Krishna'))\n",
    "print(str_example.startswith('Madhavan'))\n",
    "print(str_example.endswith('   '))\n",
    "print('d'in str_example)\n",
    "print('d'not in str_example)"
   ]
  },
  {
   "cell_type": "code",
   "execution_count": null,
   "id": "2a53de52",
   "metadata": {},
   "outputs": [],
   "source": []
  },
  {
   "cell_type": "code",
   "execution_count": null,
   "id": "dae8215d",
   "metadata": {},
   "outputs": [],
   "source": []
  }
 ],
 "metadata": {
  "kernelspec": {
   "display_name": "Python 3",
   "language": "python",
   "name": "python3"
  },
  "language_info": {
   "codemirror_mode": {
    "name": "ipython",
    "version": 3
   },
   "file_extension": ".py",
   "mimetype": "text/x-python",
   "name": "python",
   "nbconvert_exporter": "python",
   "pygments_lexer": "ipython3",
   "version": "3.10.6"
  },
  "vscode": {
   "interpreter": {
    "hash": "3fca6627ebb43556e91feb48025e736238131aa1119b989ca9031ca475e88e96"
   }
  }
 },
 "nbformat": 4,
 "nbformat_minor": 5
}
